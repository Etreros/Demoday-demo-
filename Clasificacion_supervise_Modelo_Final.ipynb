{
  "nbformat": 4,
  "nbformat_minor": 0,
  "metadata": {
    "colab": {
      "provenance": []
    },
    "kernelspec": {
      "name": "python3",
      "display_name": "Python 3"
    },
    "language_info": {
      "name": "python"
    }
  },
  "cells": [
    {
      "cell_type": "code",
      "execution_count": 2,
      "metadata": {
        "id": "iK-Qr8VBPOH_"
      },
      "outputs": [],
      "source": [
        "import pandas as pd\n",
        "import numpy as np\n",
        "import matplotlib.pyplot as plt\n",
        "from sklearn.model_selection import train_test_split, cross_val_score, GridSearchCV\n",
        "from sklearn.pipeline import Pipeline\n",
        "from sklearn.impute import SimpleImputer\n",
        "from sklearn.preprocessing import  OneHotEncoder, StandardScaler, LabelEncoder\n",
        "from sklearn.compose import ColumnTransformer\n",
        "from sklearn.linear_model import LogisticRegression\n",
        "from sklearn.tree import DecisionTreeClassifier\n",
        "from sklearn.ensemble import (RandomForestClassifier,\n",
        "                              BaggingClassifier, AdaBoostClassifier,\n",
        "                              GradientBoostingClassifier,\n",
        "                              VotingClassifier,\n",
        "                              StackingClassifier)\n",
        "from xgboost import XGBClassifier\n",
        "from sklearn.naive_bayes import GaussianNB\n",
        "from sklearn.metrics import accuracy_score, f1_score, RocCurveDisplay, ConfusionMatrixDisplay, make_scorer\n",
        "from sklearn.feature_selection import RFE\n",
        "from sklearn.svm import SVC\n",
        "\n",
        "\n",
        "\n",
        "import plotly.express as px\n",
        "import plotly.graph_objects as go\n",
        "import plotly.io as pio"
      ]
    },
    {
      "cell_type": "code",
      "source": [
        "dataframe = pd.read_csv(\"E9WT_forclassification.csv\")\n",
        "\n",
        "display(dataframe.shape)\n",
        "df= dataframe.copy()\n",
        "columnas_eliminar = [\"local_id_cells\"]\n",
        "df = df.drop(columns=columnas_eliminar, axis=1)\n",
        "display(100*df.isnull().sum()/df.shape[0])\n",
        "print()\n",
        "\n",
        "num_valores_diferentes = df['Tbx5'].value_counts()\n",
        "\n",
        "print(\"Número de valores diferentes en la columna 'Tbx5 ':\", num_valores_diferentes)\n",
        "\n",
        "df= df.dropna(subset=['theta1N', 'ratio_lambda'])\n",
        "display(100*df.isnull().sum()/df.shape[0])\n",
        "print(df.shape)"
      ],
      "metadata": {
        "colab": {
          "base_uri": "https://localhost:8080/",
          "height": 625
        },
        "id": "VP-tjIk5PV_Z",
        "outputId": "88b2feb7-0364-4fef-83f1-c9c6f1ef20d5"
      },
      "execution_count": 3,
      "outputs": [
        {
          "output_type": "display_data",
          "data": {
            "text/plain": [
              "(8618, 14)"
            ]
          },
          "metadata": {}
        },
        {
          "output_type": "display_data",
          "data": {
            "text/plain": [
              "area_cells           0.000000\n",
              "center_x_cells       0.000000\n",
              "center_y_cells       0.000000\n",
              "orientation_cells    0.000000\n",
              "perimeter_length     0.000000\n",
              "pressures            0.000000\n",
              "theta1N              0.266883\n",
              "ratio_lambda         0.266883\n",
              "eccentricity         0.000000\n",
              "n_neighbors          0.000000\n",
              "Nb_embryo            0.000000\n",
              "ATAN2                0.000000\n",
              "Tbx5                 0.000000\n",
              "dtype: float64"
            ]
          },
          "metadata": {}
        },
        {
          "output_type": "stream",
          "name": "stdout",
          "text": [
            "\n",
            "Número de valores diferentes en la columna 'Tbx5 ': Tbx5\n",
            "0.0    7436\n",
            "1.0    1182\n",
            "Name: count, dtype: int64\n"
          ]
        },
        {
          "output_type": "display_data",
          "data": {
            "text/plain": [
              "area_cells           0.0\n",
              "center_x_cells       0.0\n",
              "center_y_cells       0.0\n",
              "orientation_cells    0.0\n",
              "perimeter_length     0.0\n",
              "pressures            0.0\n",
              "theta1N              0.0\n",
              "ratio_lambda         0.0\n",
              "eccentricity         0.0\n",
              "n_neighbors          0.0\n",
              "Nb_embryo            0.0\n",
              "ATAN2                0.0\n",
              "Tbx5                 0.0\n",
              "dtype: float64"
            ]
          },
          "metadata": {}
        },
        {
          "output_type": "stream",
          "name": "stdout",
          "text": [
            "(8595, 13)\n"
          ]
        }
      ]
    },
    {
      "cell_type": "code",
      "source": [
        "# Correlation matrix\n",
        "corr_matrix = df.corr().round(2)\n",
        "\n",
        "import plotly.figure_factory as ff\n",
        "\n",
        "fig = ff.create_annotated_heatmap(corr_matrix.values,\n",
        "                                  x = corr_matrix.columns.tolist(),\n",
        "                                  y = corr_matrix.index.tolist())\n",
        "\n",
        "\n",
        "fig.show()"
      ],
      "metadata": {
        "colab": {
          "base_uri": "https://localhost:8080/",
          "height": 542
        },
        "id": "WEbCoTcoPbKf",
        "outputId": "a85260d3-3f03-42a0-f82d-ca17e062e351"
      },
      "execution_count": 4,
      "outputs": [
        {
          "output_type": "display_data",
          "data": {
            "text/html": [
              "<html>\n",
              "<head><meta charset=\"utf-8\" /></head>\n",
              "<body>\n",
              "    <div>            <script src=\"https://cdnjs.cloudflare.com/ajax/libs/mathjax/2.7.5/MathJax.js?config=TeX-AMS-MML_SVG\"></script><script type=\"text/javascript\">if (window.MathJax && window.MathJax.Hub && window.MathJax.Hub.Config) {window.MathJax.Hub.Config({SVG: {font: \"STIX-Web\"}});}</script>                <script type=\"text/javascript\">window.PlotlyConfig = {MathJaxConfig: 'local'};</script>\n",
              "        <script charset=\"utf-8\" src=\"https://cdn.plot.ly/plotly-2.24.1.min.js\"></script>                <div id=\"be860785-9055-43d2-9207-3b36151ab3f0\" class=\"plotly-graph-div\" style=\"height:525px; width:100%;\"></div>            <script type=\"text/javascript\">                                    window.PLOTLYENV=window.PLOTLYENV || {};                                    if (document.getElementById(\"be860785-9055-43d2-9207-3b36151ab3f0\")) {                    Plotly.newPlot(                        \"be860785-9055-43d2-9207-3b36151ab3f0\",                        [{\"colorscale\":[[0.0,\"#0d0887\"],[0.1111111111111111,\"#46039f\"],[0.2222222222222222,\"#7201a8\"],[0.3333333333333333,\"#9c179e\"],[0.4444444444444444,\"#bd3786\"],[0.5555555555555556,\"#d8576b\"],[0.6666666666666666,\"#ed7953\"],[0.7777777777777778,\"#fb9f3a\"],[0.8888888888888888,\"#fdca26\"],[1.0,\"#f0f921\"]],\"reversescale\":false,\"showscale\":false,\"x\":[\"area_cells\",\"center_x_cells\",\"center_y_cells\",\"orientation_cells\",\"perimeter_length\",\"pressures\",\"theta1N\",\"ratio_lambda\",\"eccentricity\",\"n_neighbors\",\"Nb_embryo\",\"ATAN2\",\"Tbx5\"],\"y\":[\"area_cells\",\"center_x_cells\",\"center_y_cells\",\"orientation_cells\",\"perimeter_length\",\"pressures\",\"theta1N\",\"ratio_lambda\",\"eccentricity\",\"n_neighbors\",\"Nb_embryo\",\"ATAN2\",\"Tbx5\"],\"z\":[[1.0,-0.06,0.05,0.0,0.94,-0.38,0.01,0.17,0.02,0.21,0.05,0.01,0.02],[-0.06,1.0,-0.04,-0.21,-0.08,-0.0,-0.2,0.04,-0.04,-0.01,0.02,-0.06,0.04],[0.05,-0.04,1.0,0.01,0.07,0.06,0.0,-0.19,-0.0,-0.01,-0.04,0.14,0.44],[0.0,-0.21,0.01,1.0,0.0,0.02,0.65,-0.02,0.01,0.0,0.0,0.08,0.02],[0.94,-0.08,0.07,0.0,1.0,-0.44,0.0,0.05,0.07,0.2,0.03,0.02,0.02],[-0.38,-0.0,0.06,0.02,-0.44,1.0,0.02,-0.24,-0.05,-0.13,-0.0,0.02,0.07],[0.01,-0.2,0.0,0.65,0.0,0.02,1.0,0.0,0.01,-0.0,-0.01,0.08,0.0],[0.17,0.04,-0.19,-0.02,0.05,-0.24,0.0,1.0,-0.18,0.08,0.09,-0.04,-0.07],[0.02,-0.04,-0.0,0.01,0.07,-0.05,0.01,-0.18,1.0,0.05,-0.04,-0.0,0.03],[0.21,-0.01,-0.01,0.0,0.2,-0.13,-0.0,0.08,0.05,1.0,0.01,0.01,0.01],[0.05,0.02,-0.04,0.0,0.03,-0.0,-0.01,0.09,-0.04,0.01,1.0,0.0,-0.07],[0.01,-0.06,0.14,0.08,0.02,0.02,0.08,-0.04,-0.0,0.01,0.0,1.0,0.05],[0.02,0.04,0.44,0.02,0.02,0.07,0.0,-0.07,0.03,0.01,-0.07,0.05,1.0]],\"type\":\"heatmap\"}],                        {\"annotations\":[{\"font\":{\"color\":\"#000000\"},\"showarrow\":false,\"text\":\"1.0\",\"x\":\"area_cells\",\"xref\":\"x\",\"y\":\"area_cells\",\"yref\":\"y\"},{\"font\":{\"color\":\"#FFFFFF\"},\"showarrow\":false,\"text\":\"-0.06\",\"x\":\"center_x_cells\",\"xref\":\"x\",\"y\":\"area_cells\",\"yref\":\"y\"},{\"font\":{\"color\":\"#FFFFFF\"},\"showarrow\":false,\"text\":\"0.05\",\"x\":\"center_y_cells\",\"xref\":\"x\",\"y\":\"area_cells\",\"yref\":\"y\"},{\"font\":{\"color\":\"#FFFFFF\"},\"showarrow\":false,\"text\":\"0.0\",\"x\":\"orientation_cells\",\"xref\":\"x\",\"y\":\"area_cells\",\"yref\":\"y\"},{\"font\":{\"color\":\"#000000\"},\"showarrow\":false,\"text\":\"0.94\",\"x\":\"perimeter_length\",\"xref\":\"x\",\"y\":\"area_cells\",\"yref\":\"y\"},{\"font\":{\"color\":\"#FFFFFF\"},\"showarrow\":false,\"text\":\"-0.38\",\"x\":\"pressures\",\"xref\":\"x\",\"y\":\"area_cells\",\"yref\":\"y\"},{\"font\":{\"color\":\"#FFFFFF\"},\"showarrow\":false,\"text\":\"0.01\",\"x\":\"theta1N\",\"xref\":\"x\",\"y\":\"area_cells\",\"yref\":\"y\"},{\"font\":{\"color\":\"#FFFFFF\"},\"showarrow\":false,\"text\":\"0.17\",\"x\":\"ratio_lambda\",\"xref\":\"x\",\"y\":\"area_cells\",\"yref\":\"y\"},{\"font\":{\"color\":\"#FFFFFF\"},\"showarrow\":false,\"text\":\"0.02\",\"x\":\"eccentricity\",\"xref\":\"x\",\"y\":\"area_cells\",\"yref\":\"y\"},{\"font\":{\"color\":\"#FFFFFF\"},\"showarrow\":false,\"text\":\"0.21\",\"x\":\"n_neighbors\",\"xref\":\"x\",\"y\":\"area_cells\",\"yref\":\"y\"},{\"font\":{\"color\":\"#FFFFFF\"},\"showarrow\":false,\"text\":\"0.05\",\"x\":\"Nb_embryo\",\"xref\":\"x\",\"y\":\"area_cells\",\"yref\":\"y\"},{\"font\":{\"color\":\"#FFFFFF\"},\"showarrow\":false,\"text\":\"0.01\",\"x\":\"ATAN2\",\"xref\":\"x\",\"y\":\"area_cells\",\"yref\":\"y\"},{\"font\":{\"color\":\"#FFFFFF\"},\"showarrow\":false,\"text\":\"0.02\",\"x\":\"Tbx5\",\"xref\":\"x\",\"y\":\"area_cells\",\"yref\":\"y\"},{\"font\":{\"color\":\"#FFFFFF\"},\"showarrow\":false,\"text\":\"-0.06\",\"x\":\"area_cells\",\"xref\":\"x\",\"y\":\"center_x_cells\",\"yref\":\"y\"},{\"font\":{\"color\":\"#000000\"},\"showarrow\":false,\"text\":\"1.0\",\"x\":\"center_x_cells\",\"xref\":\"x\",\"y\":\"center_x_cells\",\"yref\":\"y\"},{\"font\":{\"color\":\"#FFFFFF\"},\"showarrow\":false,\"text\":\"-0.04\",\"x\":\"center_y_cells\",\"xref\":\"x\",\"y\":\"center_x_cells\",\"yref\":\"y\"},{\"font\":{\"color\":\"#FFFFFF\"},\"showarrow\":false,\"text\":\"-0.21\",\"x\":\"orientation_cells\",\"xref\":\"x\",\"y\":\"center_x_cells\",\"yref\":\"y\"},{\"font\":{\"color\":\"#FFFFFF\"},\"showarrow\":false,\"text\":\"-0.08\",\"x\":\"perimeter_length\",\"xref\":\"x\",\"y\":\"center_x_cells\",\"yref\":\"y\"},{\"font\":{\"color\":\"#FFFFFF\"},\"showarrow\":false,\"text\":\"-0.0\",\"x\":\"pressures\",\"xref\":\"x\",\"y\":\"center_x_cells\",\"yref\":\"y\"},{\"font\":{\"color\":\"#FFFFFF\"},\"showarrow\":false,\"text\":\"-0.2\",\"x\":\"theta1N\",\"xref\":\"x\",\"y\":\"center_x_cells\",\"yref\":\"y\"},{\"font\":{\"color\":\"#FFFFFF\"},\"showarrow\":false,\"text\":\"0.04\",\"x\":\"ratio_lambda\",\"xref\":\"x\",\"y\":\"center_x_cells\",\"yref\":\"y\"},{\"font\":{\"color\":\"#FFFFFF\"},\"showarrow\":false,\"text\":\"-0.04\",\"x\":\"eccentricity\",\"xref\":\"x\",\"y\":\"center_x_cells\",\"yref\":\"y\"},{\"font\":{\"color\":\"#FFFFFF\"},\"showarrow\":false,\"text\":\"-0.01\",\"x\":\"n_neighbors\",\"xref\":\"x\",\"y\":\"center_x_cells\",\"yref\":\"y\"},{\"font\":{\"color\":\"#FFFFFF\"},\"showarrow\":false,\"text\":\"0.02\",\"x\":\"Nb_embryo\",\"xref\":\"x\",\"y\":\"center_x_cells\",\"yref\":\"y\"},{\"font\":{\"color\":\"#FFFFFF\"},\"showarrow\":false,\"text\":\"-0.06\",\"x\":\"ATAN2\",\"xref\":\"x\",\"y\":\"center_x_cells\",\"yref\":\"y\"},{\"font\":{\"color\":\"#FFFFFF\"},\"showarrow\":false,\"text\":\"0.04\",\"x\":\"Tbx5\",\"xref\":\"x\",\"y\":\"center_x_cells\",\"yref\":\"y\"},{\"font\":{\"color\":\"#FFFFFF\"},\"showarrow\":false,\"text\":\"0.05\",\"x\":\"area_cells\",\"xref\":\"x\",\"y\":\"center_y_cells\",\"yref\":\"y\"},{\"font\":{\"color\":\"#FFFFFF\"},\"showarrow\":false,\"text\":\"-0.04\",\"x\":\"center_x_cells\",\"xref\":\"x\",\"y\":\"center_y_cells\",\"yref\":\"y\"},{\"font\":{\"color\":\"#000000\"},\"showarrow\":false,\"text\":\"1.0\",\"x\":\"center_y_cells\",\"xref\":\"x\",\"y\":\"center_y_cells\",\"yref\":\"y\"},{\"font\":{\"color\":\"#FFFFFF\"},\"showarrow\":false,\"text\":\"0.01\",\"x\":\"orientation_cells\",\"xref\":\"x\",\"y\":\"center_y_cells\",\"yref\":\"y\"},{\"font\":{\"color\":\"#FFFFFF\"},\"showarrow\":false,\"text\":\"0.07\",\"x\":\"perimeter_length\",\"xref\":\"x\",\"y\":\"center_y_cells\",\"yref\":\"y\"},{\"font\":{\"color\":\"#FFFFFF\"},\"showarrow\":false,\"text\":\"0.06\",\"x\":\"pressures\",\"xref\":\"x\",\"y\":\"center_y_cells\",\"yref\":\"y\"},{\"font\":{\"color\":\"#FFFFFF\"},\"showarrow\":false,\"text\":\"0.0\",\"x\":\"theta1N\",\"xref\":\"x\",\"y\":\"center_y_cells\",\"yref\":\"y\"},{\"font\":{\"color\":\"#FFFFFF\"},\"showarrow\":false,\"text\":\"-0.19\",\"x\":\"ratio_lambda\",\"xref\":\"x\",\"y\":\"center_y_cells\",\"yref\":\"y\"},{\"font\":{\"color\":\"#FFFFFF\"},\"showarrow\":false,\"text\":\"-0.0\",\"x\":\"eccentricity\",\"xref\":\"x\",\"y\":\"center_y_cells\",\"yref\":\"y\"},{\"font\":{\"color\":\"#FFFFFF\"},\"showarrow\":false,\"text\":\"-0.01\",\"x\":\"n_neighbors\",\"xref\":\"x\",\"y\":\"center_y_cells\",\"yref\":\"y\"},{\"font\":{\"color\":\"#FFFFFF\"},\"showarrow\":false,\"text\":\"-0.04\",\"x\":\"Nb_embryo\",\"xref\":\"x\",\"y\":\"center_y_cells\",\"yref\":\"y\"},{\"font\":{\"color\":\"#FFFFFF\"},\"showarrow\":false,\"text\":\"0.14\",\"x\":\"ATAN2\",\"xref\":\"x\",\"y\":\"center_y_cells\",\"yref\":\"y\"},{\"font\":{\"color\":\"#000000\"},\"showarrow\":false,\"text\":\"0.44\",\"x\":\"Tbx5\",\"xref\":\"x\",\"y\":\"center_y_cells\",\"yref\":\"y\"},{\"font\":{\"color\":\"#FFFFFF\"},\"showarrow\":false,\"text\":\"0.0\",\"x\":\"area_cells\",\"xref\":\"x\",\"y\":\"orientation_cells\",\"yref\":\"y\"},{\"font\":{\"color\":\"#FFFFFF\"},\"showarrow\":false,\"text\":\"-0.21\",\"x\":\"center_x_cells\",\"xref\":\"x\",\"y\":\"orientation_cells\",\"yref\":\"y\"},{\"font\":{\"color\":\"#FFFFFF\"},\"showarrow\":false,\"text\":\"0.01\",\"x\":\"center_y_cells\",\"xref\":\"x\",\"y\":\"orientation_cells\",\"yref\":\"y\"},{\"font\":{\"color\":\"#000000\"},\"showarrow\":false,\"text\":\"1.0\",\"x\":\"orientation_cells\",\"xref\":\"x\",\"y\":\"orientation_cells\",\"yref\":\"y\"},{\"font\":{\"color\":\"#FFFFFF\"},\"showarrow\":false,\"text\":\"0.0\",\"x\":\"perimeter_length\",\"xref\":\"x\",\"y\":\"orientation_cells\",\"yref\":\"y\"},{\"font\":{\"color\":\"#FFFFFF\"},\"showarrow\":false,\"text\":\"0.02\",\"x\":\"pressures\",\"xref\":\"x\",\"y\":\"orientation_cells\",\"yref\":\"y\"},{\"font\":{\"color\":\"#000000\"},\"showarrow\":false,\"text\":\"0.65\",\"x\":\"theta1N\",\"xref\":\"x\",\"y\":\"orientation_cells\",\"yref\":\"y\"},{\"font\":{\"color\":\"#FFFFFF\"},\"showarrow\":false,\"text\":\"-0.02\",\"x\":\"ratio_lambda\",\"xref\":\"x\",\"y\":\"orientation_cells\",\"yref\":\"y\"},{\"font\":{\"color\":\"#FFFFFF\"},\"showarrow\":false,\"text\":\"0.01\",\"x\":\"eccentricity\",\"xref\":\"x\",\"y\":\"orientation_cells\",\"yref\":\"y\"},{\"font\":{\"color\":\"#FFFFFF\"},\"showarrow\":false,\"text\":\"0.0\",\"x\":\"n_neighbors\",\"xref\":\"x\",\"y\":\"orientation_cells\",\"yref\":\"y\"},{\"font\":{\"color\":\"#FFFFFF\"},\"showarrow\":false,\"text\":\"0.0\",\"x\":\"Nb_embryo\",\"xref\":\"x\",\"y\":\"orientation_cells\",\"yref\":\"y\"},{\"font\":{\"color\":\"#FFFFFF\"},\"showarrow\":false,\"text\":\"0.08\",\"x\":\"ATAN2\",\"xref\":\"x\",\"y\":\"orientation_cells\",\"yref\":\"y\"},{\"font\":{\"color\":\"#FFFFFF\"},\"showarrow\":false,\"text\":\"0.02\",\"x\":\"Tbx5\",\"xref\":\"x\",\"y\":\"orientation_cells\",\"yref\":\"y\"},{\"font\":{\"color\":\"#000000\"},\"showarrow\":false,\"text\":\"0.94\",\"x\":\"area_cells\",\"xref\":\"x\",\"y\":\"perimeter_length\",\"yref\":\"y\"},{\"font\":{\"color\":\"#FFFFFF\"},\"showarrow\":false,\"text\":\"-0.08\",\"x\":\"center_x_cells\",\"xref\":\"x\",\"y\":\"perimeter_length\",\"yref\":\"y\"},{\"font\":{\"color\":\"#FFFFFF\"},\"showarrow\":false,\"text\":\"0.07\",\"x\":\"center_y_cells\",\"xref\":\"x\",\"y\":\"perimeter_length\",\"yref\":\"y\"},{\"font\":{\"color\":\"#FFFFFF\"},\"showarrow\":false,\"text\":\"0.0\",\"x\":\"orientation_cells\",\"xref\":\"x\",\"y\":\"perimeter_length\",\"yref\":\"y\"},{\"font\":{\"color\":\"#000000\"},\"showarrow\":false,\"text\":\"1.0\",\"x\":\"perimeter_length\",\"xref\":\"x\",\"y\":\"perimeter_length\",\"yref\":\"y\"},{\"font\":{\"color\":\"#FFFFFF\"},\"showarrow\":false,\"text\":\"-0.44\",\"x\":\"pressures\",\"xref\":\"x\",\"y\":\"perimeter_length\",\"yref\":\"y\"},{\"font\":{\"color\":\"#FFFFFF\"},\"showarrow\":false,\"text\":\"0.0\",\"x\":\"theta1N\",\"xref\":\"x\",\"y\":\"perimeter_length\",\"yref\":\"y\"},{\"font\":{\"color\":\"#FFFFFF\"},\"showarrow\":false,\"text\":\"0.05\",\"x\":\"ratio_lambda\",\"xref\":\"x\",\"y\":\"perimeter_length\",\"yref\":\"y\"},{\"font\":{\"color\":\"#FFFFFF\"},\"showarrow\":false,\"text\":\"0.07\",\"x\":\"eccentricity\",\"xref\":\"x\",\"y\":\"perimeter_length\",\"yref\":\"y\"},{\"font\":{\"color\":\"#FFFFFF\"},\"showarrow\":false,\"text\":\"0.2\",\"x\":\"n_neighbors\",\"xref\":\"x\",\"y\":\"perimeter_length\",\"yref\":\"y\"},{\"font\":{\"color\":\"#FFFFFF\"},\"showarrow\":false,\"text\":\"0.03\",\"x\":\"Nb_embryo\",\"xref\":\"x\",\"y\":\"perimeter_length\",\"yref\":\"y\"},{\"font\":{\"color\":\"#FFFFFF\"},\"showarrow\":false,\"text\":\"0.02\",\"x\":\"ATAN2\",\"xref\":\"x\",\"y\":\"perimeter_length\",\"yref\":\"y\"},{\"font\":{\"color\":\"#FFFFFF\"},\"showarrow\":false,\"text\":\"0.02\",\"x\":\"Tbx5\",\"xref\":\"x\",\"y\":\"perimeter_length\",\"yref\":\"y\"},{\"font\":{\"color\":\"#FFFFFF\"},\"showarrow\":false,\"text\":\"-0.38\",\"x\":\"area_cells\",\"xref\":\"x\",\"y\":\"pressures\",\"yref\":\"y\"},{\"font\":{\"color\":\"#FFFFFF\"},\"showarrow\":false,\"text\":\"-0.0\",\"x\":\"center_x_cells\",\"xref\":\"x\",\"y\":\"pressures\",\"yref\":\"y\"},{\"font\":{\"color\":\"#FFFFFF\"},\"showarrow\":false,\"text\":\"0.06\",\"x\":\"center_y_cells\",\"xref\":\"x\",\"y\":\"pressures\",\"yref\":\"y\"},{\"font\":{\"color\":\"#FFFFFF\"},\"showarrow\":false,\"text\":\"0.02\",\"x\":\"orientation_cells\",\"xref\":\"x\",\"y\":\"pressures\",\"yref\":\"y\"},{\"font\":{\"color\":\"#FFFFFF\"},\"showarrow\":false,\"text\":\"-0.44\",\"x\":\"perimeter_length\",\"xref\":\"x\",\"y\":\"pressures\",\"yref\":\"y\"},{\"font\":{\"color\":\"#000000\"},\"showarrow\":false,\"text\":\"1.0\",\"x\":\"pressures\",\"xref\":\"x\",\"y\":\"pressures\",\"yref\":\"y\"},{\"font\":{\"color\":\"#FFFFFF\"},\"showarrow\":false,\"text\":\"0.02\",\"x\":\"theta1N\",\"xref\":\"x\",\"y\":\"pressures\",\"yref\":\"y\"},{\"font\":{\"color\":\"#FFFFFF\"},\"showarrow\":false,\"text\":\"-0.24\",\"x\":\"ratio_lambda\",\"xref\":\"x\",\"y\":\"pressures\",\"yref\":\"y\"},{\"font\":{\"color\":\"#FFFFFF\"},\"showarrow\":false,\"text\":\"-0.05\",\"x\":\"eccentricity\",\"xref\":\"x\",\"y\":\"pressures\",\"yref\":\"y\"},{\"font\":{\"color\":\"#FFFFFF\"},\"showarrow\":false,\"text\":\"-0.13\",\"x\":\"n_neighbors\",\"xref\":\"x\",\"y\":\"pressures\",\"yref\":\"y\"},{\"font\":{\"color\":\"#FFFFFF\"},\"showarrow\":false,\"text\":\"-0.0\",\"x\":\"Nb_embryo\",\"xref\":\"x\",\"y\":\"pressures\",\"yref\":\"y\"},{\"font\":{\"color\":\"#FFFFFF\"},\"showarrow\":false,\"text\":\"0.02\",\"x\":\"ATAN2\",\"xref\":\"x\",\"y\":\"pressures\",\"yref\":\"y\"},{\"font\":{\"color\":\"#FFFFFF\"},\"showarrow\":false,\"text\":\"0.07\",\"x\":\"Tbx5\",\"xref\":\"x\",\"y\":\"pressures\",\"yref\":\"y\"},{\"font\":{\"color\":\"#FFFFFF\"},\"showarrow\":false,\"text\":\"0.01\",\"x\":\"area_cells\",\"xref\":\"x\",\"y\":\"theta1N\",\"yref\":\"y\"},{\"font\":{\"color\":\"#FFFFFF\"},\"showarrow\":false,\"text\":\"-0.2\",\"x\":\"center_x_cells\",\"xref\":\"x\",\"y\":\"theta1N\",\"yref\":\"y\"},{\"font\":{\"color\":\"#FFFFFF\"},\"showarrow\":false,\"text\":\"0.0\",\"x\":\"center_y_cells\",\"xref\":\"x\",\"y\":\"theta1N\",\"yref\":\"y\"},{\"font\":{\"color\":\"#000000\"},\"showarrow\":false,\"text\":\"0.65\",\"x\":\"orientation_cells\",\"xref\":\"x\",\"y\":\"theta1N\",\"yref\":\"y\"},{\"font\":{\"color\":\"#FFFFFF\"},\"showarrow\":false,\"text\":\"0.0\",\"x\":\"perimeter_length\",\"xref\":\"x\",\"y\":\"theta1N\",\"yref\":\"y\"},{\"font\":{\"color\":\"#FFFFFF\"},\"showarrow\":false,\"text\":\"0.02\",\"x\":\"pressures\",\"xref\":\"x\",\"y\":\"theta1N\",\"yref\":\"y\"},{\"font\":{\"color\":\"#000000\"},\"showarrow\":false,\"text\":\"1.0\",\"x\":\"theta1N\",\"xref\":\"x\",\"y\":\"theta1N\",\"yref\":\"y\"},{\"font\":{\"color\":\"#FFFFFF\"},\"showarrow\":false,\"text\":\"0.0\",\"x\":\"ratio_lambda\",\"xref\":\"x\",\"y\":\"theta1N\",\"yref\":\"y\"},{\"font\":{\"color\":\"#FFFFFF\"},\"showarrow\":false,\"text\":\"0.01\",\"x\":\"eccentricity\",\"xref\":\"x\",\"y\":\"theta1N\",\"yref\":\"y\"},{\"font\":{\"color\":\"#FFFFFF\"},\"showarrow\":false,\"text\":\"-0.0\",\"x\":\"n_neighbors\",\"xref\":\"x\",\"y\":\"theta1N\",\"yref\":\"y\"},{\"font\":{\"color\":\"#FFFFFF\"},\"showarrow\":false,\"text\":\"-0.01\",\"x\":\"Nb_embryo\",\"xref\":\"x\",\"y\":\"theta1N\",\"yref\":\"y\"},{\"font\":{\"color\":\"#FFFFFF\"},\"showarrow\":false,\"text\":\"0.08\",\"x\":\"ATAN2\",\"xref\":\"x\",\"y\":\"theta1N\",\"yref\":\"y\"},{\"font\":{\"color\":\"#FFFFFF\"},\"showarrow\":false,\"text\":\"0.0\",\"x\":\"Tbx5\",\"xref\":\"x\",\"y\":\"theta1N\",\"yref\":\"y\"},{\"font\":{\"color\":\"#FFFFFF\"},\"showarrow\":false,\"text\":\"0.17\",\"x\":\"area_cells\",\"xref\":\"x\",\"y\":\"ratio_lambda\",\"yref\":\"y\"},{\"font\":{\"color\":\"#FFFFFF\"},\"showarrow\":false,\"text\":\"0.04\",\"x\":\"center_x_cells\",\"xref\":\"x\",\"y\":\"ratio_lambda\",\"yref\":\"y\"},{\"font\":{\"color\":\"#FFFFFF\"},\"showarrow\":false,\"text\":\"-0.19\",\"x\":\"center_y_cells\",\"xref\":\"x\",\"y\":\"ratio_lambda\",\"yref\":\"y\"},{\"font\":{\"color\":\"#FFFFFF\"},\"showarrow\":false,\"text\":\"-0.02\",\"x\":\"orientation_cells\",\"xref\":\"x\",\"y\":\"ratio_lambda\",\"yref\":\"y\"},{\"font\":{\"color\":\"#FFFFFF\"},\"showarrow\":false,\"text\":\"0.05\",\"x\":\"perimeter_length\",\"xref\":\"x\",\"y\":\"ratio_lambda\",\"yref\":\"y\"},{\"font\":{\"color\":\"#FFFFFF\"},\"showarrow\":false,\"text\":\"-0.24\",\"x\":\"pressures\",\"xref\":\"x\",\"y\":\"ratio_lambda\",\"yref\":\"y\"},{\"font\":{\"color\":\"#FFFFFF\"},\"showarrow\":false,\"text\":\"0.0\",\"x\":\"theta1N\",\"xref\":\"x\",\"y\":\"ratio_lambda\",\"yref\":\"y\"},{\"font\":{\"color\":\"#000000\"},\"showarrow\":false,\"text\":\"1.0\",\"x\":\"ratio_lambda\",\"xref\":\"x\",\"y\":\"ratio_lambda\",\"yref\":\"y\"},{\"font\":{\"color\":\"#FFFFFF\"},\"showarrow\":false,\"text\":\"-0.18\",\"x\":\"eccentricity\",\"xref\":\"x\",\"y\":\"ratio_lambda\",\"yref\":\"y\"},{\"font\":{\"color\":\"#FFFFFF\"},\"showarrow\":false,\"text\":\"0.08\",\"x\":\"n_neighbors\",\"xref\":\"x\",\"y\":\"ratio_lambda\",\"yref\":\"y\"},{\"font\":{\"color\":\"#FFFFFF\"},\"showarrow\":false,\"text\":\"0.09\",\"x\":\"Nb_embryo\",\"xref\":\"x\",\"y\":\"ratio_lambda\",\"yref\":\"y\"},{\"font\":{\"color\":\"#FFFFFF\"},\"showarrow\":false,\"text\":\"-0.04\",\"x\":\"ATAN2\",\"xref\":\"x\",\"y\":\"ratio_lambda\",\"yref\":\"y\"},{\"font\":{\"color\":\"#FFFFFF\"},\"showarrow\":false,\"text\":\"-0.07\",\"x\":\"Tbx5\",\"xref\":\"x\",\"y\":\"ratio_lambda\",\"yref\":\"y\"},{\"font\":{\"color\":\"#FFFFFF\"},\"showarrow\":false,\"text\":\"0.02\",\"x\":\"area_cells\",\"xref\":\"x\",\"y\":\"eccentricity\",\"yref\":\"y\"},{\"font\":{\"color\":\"#FFFFFF\"},\"showarrow\":false,\"text\":\"-0.04\",\"x\":\"center_x_cells\",\"xref\":\"x\",\"y\":\"eccentricity\",\"yref\":\"y\"},{\"font\":{\"color\":\"#FFFFFF\"},\"showarrow\":false,\"text\":\"-0.0\",\"x\":\"center_y_cells\",\"xref\":\"x\",\"y\":\"eccentricity\",\"yref\":\"y\"},{\"font\":{\"color\":\"#FFFFFF\"},\"showarrow\":false,\"text\":\"0.01\",\"x\":\"orientation_cells\",\"xref\":\"x\",\"y\":\"eccentricity\",\"yref\":\"y\"},{\"font\":{\"color\":\"#FFFFFF\"},\"showarrow\":false,\"text\":\"0.07\",\"x\":\"perimeter_length\",\"xref\":\"x\",\"y\":\"eccentricity\",\"yref\":\"y\"},{\"font\":{\"color\":\"#FFFFFF\"},\"showarrow\":false,\"text\":\"-0.05\",\"x\":\"pressures\",\"xref\":\"x\",\"y\":\"eccentricity\",\"yref\":\"y\"},{\"font\":{\"color\":\"#FFFFFF\"},\"showarrow\":false,\"text\":\"0.01\",\"x\":\"theta1N\",\"xref\":\"x\",\"y\":\"eccentricity\",\"yref\":\"y\"},{\"font\":{\"color\":\"#FFFFFF\"},\"showarrow\":false,\"text\":\"-0.18\",\"x\":\"ratio_lambda\",\"xref\":\"x\",\"y\":\"eccentricity\",\"yref\":\"y\"},{\"font\":{\"color\":\"#000000\"},\"showarrow\":false,\"text\":\"1.0\",\"x\":\"eccentricity\",\"xref\":\"x\",\"y\":\"eccentricity\",\"yref\":\"y\"},{\"font\":{\"color\":\"#FFFFFF\"},\"showarrow\":false,\"text\":\"0.05\",\"x\":\"n_neighbors\",\"xref\":\"x\",\"y\":\"eccentricity\",\"yref\":\"y\"},{\"font\":{\"color\":\"#FFFFFF\"},\"showarrow\":false,\"text\":\"-0.04\",\"x\":\"Nb_embryo\",\"xref\":\"x\",\"y\":\"eccentricity\",\"yref\":\"y\"},{\"font\":{\"color\":\"#FFFFFF\"},\"showarrow\":false,\"text\":\"-0.0\",\"x\":\"ATAN2\",\"xref\":\"x\",\"y\":\"eccentricity\",\"yref\":\"y\"},{\"font\":{\"color\":\"#FFFFFF\"},\"showarrow\":false,\"text\":\"0.03\",\"x\":\"Tbx5\",\"xref\":\"x\",\"y\":\"eccentricity\",\"yref\":\"y\"},{\"font\":{\"color\":\"#FFFFFF\"},\"showarrow\":false,\"text\":\"0.21\",\"x\":\"area_cells\",\"xref\":\"x\",\"y\":\"n_neighbors\",\"yref\":\"y\"},{\"font\":{\"color\":\"#FFFFFF\"},\"showarrow\":false,\"text\":\"-0.01\",\"x\":\"center_x_cells\",\"xref\":\"x\",\"y\":\"n_neighbors\",\"yref\":\"y\"},{\"font\":{\"color\":\"#FFFFFF\"},\"showarrow\":false,\"text\":\"-0.01\",\"x\":\"center_y_cells\",\"xref\":\"x\",\"y\":\"n_neighbors\",\"yref\":\"y\"},{\"font\":{\"color\":\"#FFFFFF\"},\"showarrow\":false,\"text\":\"0.0\",\"x\":\"orientation_cells\",\"xref\":\"x\",\"y\":\"n_neighbors\",\"yref\":\"y\"},{\"font\":{\"color\":\"#FFFFFF\"},\"showarrow\":false,\"text\":\"0.2\",\"x\":\"perimeter_length\",\"xref\":\"x\",\"y\":\"n_neighbors\",\"yref\":\"y\"},{\"font\":{\"color\":\"#FFFFFF\"},\"showarrow\":false,\"text\":\"-0.13\",\"x\":\"pressures\",\"xref\":\"x\",\"y\":\"n_neighbors\",\"yref\":\"y\"},{\"font\":{\"color\":\"#FFFFFF\"},\"showarrow\":false,\"text\":\"-0.0\",\"x\":\"theta1N\",\"xref\":\"x\",\"y\":\"n_neighbors\",\"yref\":\"y\"},{\"font\":{\"color\":\"#FFFFFF\"},\"showarrow\":false,\"text\":\"0.08\",\"x\":\"ratio_lambda\",\"xref\":\"x\",\"y\":\"n_neighbors\",\"yref\":\"y\"},{\"font\":{\"color\":\"#FFFFFF\"},\"showarrow\":false,\"text\":\"0.05\",\"x\":\"eccentricity\",\"xref\":\"x\",\"y\":\"n_neighbors\",\"yref\":\"y\"},{\"font\":{\"color\":\"#000000\"},\"showarrow\":false,\"text\":\"1.0\",\"x\":\"n_neighbors\",\"xref\":\"x\",\"y\":\"n_neighbors\",\"yref\":\"y\"},{\"font\":{\"color\":\"#FFFFFF\"},\"showarrow\":false,\"text\":\"0.01\",\"x\":\"Nb_embryo\",\"xref\":\"x\",\"y\":\"n_neighbors\",\"yref\":\"y\"},{\"font\":{\"color\":\"#FFFFFF\"},\"showarrow\":false,\"text\":\"0.01\",\"x\":\"ATAN2\",\"xref\":\"x\",\"y\":\"n_neighbors\",\"yref\":\"y\"},{\"font\":{\"color\":\"#FFFFFF\"},\"showarrow\":false,\"text\":\"0.01\",\"x\":\"Tbx5\",\"xref\":\"x\",\"y\":\"n_neighbors\",\"yref\":\"y\"},{\"font\":{\"color\":\"#FFFFFF\"},\"showarrow\":false,\"text\":\"0.05\",\"x\":\"area_cells\",\"xref\":\"x\",\"y\":\"Nb_embryo\",\"yref\":\"y\"},{\"font\":{\"color\":\"#FFFFFF\"},\"showarrow\":false,\"text\":\"0.02\",\"x\":\"center_x_cells\",\"xref\":\"x\",\"y\":\"Nb_embryo\",\"yref\":\"y\"},{\"font\":{\"color\":\"#FFFFFF\"},\"showarrow\":false,\"text\":\"-0.04\",\"x\":\"center_y_cells\",\"xref\":\"x\",\"y\":\"Nb_embryo\",\"yref\":\"y\"},{\"font\":{\"color\":\"#FFFFFF\"},\"showarrow\":false,\"text\":\"0.0\",\"x\":\"orientation_cells\",\"xref\":\"x\",\"y\":\"Nb_embryo\",\"yref\":\"y\"},{\"font\":{\"color\":\"#FFFFFF\"},\"showarrow\":false,\"text\":\"0.03\",\"x\":\"perimeter_length\",\"xref\":\"x\",\"y\":\"Nb_embryo\",\"yref\":\"y\"},{\"font\":{\"color\":\"#FFFFFF\"},\"showarrow\":false,\"text\":\"-0.0\",\"x\":\"pressures\",\"xref\":\"x\",\"y\":\"Nb_embryo\",\"yref\":\"y\"},{\"font\":{\"color\":\"#FFFFFF\"},\"showarrow\":false,\"text\":\"-0.01\",\"x\":\"theta1N\",\"xref\":\"x\",\"y\":\"Nb_embryo\",\"yref\":\"y\"},{\"font\":{\"color\":\"#FFFFFF\"},\"showarrow\":false,\"text\":\"0.09\",\"x\":\"ratio_lambda\",\"xref\":\"x\",\"y\":\"Nb_embryo\",\"yref\":\"y\"},{\"font\":{\"color\":\"#FFFFFF\"},\"showarrow\":false,\"text\":\"-0.04\",\"x\":\"eccentricity\",\"xref\":\"x\",\"y\":\"Nb_embryo\",\"yref\":\"y\"},{\"font\":{\"color\":\"#FFFFFF\"},\"showarrow\":false,\"text\":\"0.01\",\"x\":\"n_neighbors\",\"xref\":\"x\",\"y\":\"Nb_embryo\",\"yref\":\"y\"},{\"font\":{\"color\":\"#000000\"},\"showarrow\":false,\"text\":\"1.0\",\"x\":\"Nb_embryo\",\"xref\":\"x\",\"y\":\"Nb_embryo\",\"yref\":\"y\"},{\"font\":{\"color\":\"#FFFFFF\"},\"showarrow\":false,\"text\":\"0.0\",\"x\":\"ATAN2\",\"xref\":\"x\",\"y\":\"Nb_embryo\",\"yref\":\"y\"},{\"font\":{\"color\":\"#FFFFFF\"},\"showarrow\":false,\"text\":\"-0.07\",\"x\":\"Tbx5\",\"xref\":\"x\",\"y\":\"Nb_embryo\",\"yref\":\"y\"},{\"font\":{\"color\":\"#FFFFFF\"},\"showarrow\":false,\"text\":\"0.01\",\"x\":\"area_cells\",\"xref\":\"x\",\"y\":\"ATAN2\",\"yref\":\"y\"},{\"font\":{\"color\":\"#FFFFFF\"},\"showarrow\":false,\"text\":\"-0.06\",\"x\":\"center_x_cells\",\"xref\":\"x\",\"y\":\"ATAN2\",\"yref\":\"y\"},{\"font\":{\"color\":\"#FFFFFF\"},\"showarrow\":false,\"text\":\"0.14\",\"x\":\"center_y_cells\",\"xref\":\"x\",\"y\":\"ATAN2\",\"yref\":\"y\"},{\"font\":{\"color\":\"#FFFFFF\"},\"showarrow\":false,\"text\":\"0.08\",\"x\":\"orientation_cells\",\"xref\":\"x\",\"y\":\"ATAN2\",\"yref\":\"y\"},{\"font\":{\"color\":\"#FFFFFF\"},\"showarrow\":false,\"text\":\"0.02\",\"x\":\"perimeter_length\",\"xref\":\"x\",\"y\":\"ATAN2\",\"yref\":\"y\"},{\"font\":{\"color\":\"#FFFFFF\"},\"showarrow\":false,\"text\":\"0.02\",\"x\":\"pressures\",\"xref\":\"x\",\"y\":\"ATAN2\",\"yref\":\"y\"},{\"font\":{\"color\":\"#FFFFFF\"},\"showarrow\":false,\"text\":\"0.08\",\"x\":\"theta1N\",\"xref\":\"x\",\"y\":\"ATAN2\",\"yref\":\"y\"},{\"font\":{\"color\":\"#FFFFFF\"},\"showarrow\":false,\"text\":\"-0.04\",\"x\":\"ratio_lambda\",\"xref\":\"x\",\"y\":\"ATAN2\",\"yref\":\"y\"},{\"font\":{\"color\":\"#FFFFFF\"},\"showarrow\":false,\"text\":\"-0.0\",\"x\":\"eccentricity\",\"xref\":\"x\",\"y\":\"ATAN2\",\"yref\":\"y\"},{\"font\":{\"color\":\"#FFFFFF\"},\"showarrow\":false,\"text\":\"0.01\",\"x\":\"n_neighbors\",\"xref\":\"x\",\"y\":\"ATAN2\",\"yref\":\"y\"},{\"font\":{\"color\":\"#FFFFFF\"},\"showarrow\":false,\"text\":\"0.0\",\"x\":\"Nb_embryo\",\"xref\":\"x\",\"y\":\"ATAN2\",\"yref\":\"y\"},{\"font\":{\"color\":\"#000000\"},\"showarrow\":false,\"text\":\"1.0\",\"x\":\"ATAN2\",\"xref\":\"x\",\"y\":\"ATAN2\",\"yref\":\"y\"},{\"font\":{\"color\":\"#FFFFFF\"},\"showarrow\":false,\"text\":\"0.05\",\"x\":\"Tbx5\",\"xref\":\"x\",\"y\":\"ATAN2\",\"yref\":\"y\"},{\"font\":{\"color\":\"#FFFFFF\"},\"showarrow\":false,\"text\":\"0.02\",\"x\":\"area_cells\",\"xref\":\"x\",\"y\":\"Tbx5\",\"yref\":\"y\"},{\"font\":{\"color\":\"#FFFFFF\"},\"showarrow\":false,\"text\":\"0.04\",\"x\":\"center_x_cells\",\"xref\":\"x\",\"y\":\"Tbx5\",\"yref\":\"y\"},{\"font\":{\"color\":\"#000000\"},\"showarrow\":false,\"text\":\"0.44\",\"x\":\"center_y_cells\",\"xref\":\"x\",\"y\":\"Tbx5\",\"yref\":\"y\"},{\"font\":{\"color\":\"#FFFFFF\"},\"showarrow\":false,\"text\":\"0.02\",\"x\":\"orientation_cells\",\"xref\":\"x\",\"y\":\"Tbx5\",\"yref\":\"y\"},{\"font\":{\"color\":\"#FFFFFF\"},\"showarrow\":false,\"text\":\"0.02\",\"x\":\"perimeter_length\",\"xref\":\"x\",\"y\":\"Tbx5\",\"yref\":\"y\"},{\"font\":{\"color\":\"#FFFFFF\"},\"showarrow\":false,\"text\":\"0.07\",\"x\":\"pressures\",\"xref\":\"x\",\"y\":\"Tbx5\",\"yref\":\"y\"},{\"font\":{\"color\":\"#FFFFFF\"},\"showarrow\":false,\"text\":\"0.0\",\"x\":\"theta1N\",\"xref\":\"x\",\"y\":\"Tbx5\",\"yref\":\"y\"},{\"font\":{\"color\":\"#FFFFFF\"},\"showarrow\":false,\"text\":\"-0.07\",\"x\":\"ratio_lambda\",\"xref\":\"x\",\"y\":\"Tbx5\",\"yref\":\"y\"},{\"font\":{\"color\":\"#FFFFFF\"},\"showarrow\":false,\"text\":\"0.03\",\"x\":\"eccentricity\",\"xref\":\"x\",\"y\":\"Tbx5\",\"yref\":\"y\"},{\"font\":{\"color\":\"#FFFFFF\"},\"showarrow\":false,\"text\":\"0.01\",\"x\":\"n_neighbors\",\"xref\":\"x\",\"y\":\"Tbx5\",\"yref\":\"y\"},{\"font\":{\"color\":\"#FFFFFF\"},\"showarrow\":false,\"text\":\"-0.07\",\"x\":\"Nb_embryo\",\"xref\":\"x\",\"y\":\"Tbx5\",\"yref\":\"y\"},{\"font\":{\"color\":\"#FFFFFF\"},\"showarrow\":false,\"text\":\"0.05\",\"x\":\"ATAN2\",\"xref\":\"x\",\"y\":\"Tbx5\",\"yref\":\"y\"},{\"font\":{\"color\":\"#000000\"},\"showarrow\":false,\"text\":\"1.0\",\"x\":\"Tbx5\",\"xref\":\"x\",\"y\":\"Tbx5\",\"yref\":\"y\"}],\"xaxis\":{\"dtick\":1,\"gridcolor\":\"rgb(0, 0, 0)\",\"side\":\"top\",\"ticks\":\"\"},\"yaxis\":{\"dtick\":1,\"ticks\":\"\",\"ticksuffix\":\"  \"},\"template\":{\"data\":{\"histogram2dcontour\":[{\"type\":\"histogram2dcontour\",\"colorbar\":{\"outlinewidth\":0,\"ticks\":\"\"},\"colorscale\":[[0.0,\"#0d0887\"],[0.1111111111111111,\"#46039f\"],[0.2222222222222222,\"#7201a8\"],[0.3333333333333333,\"#9c179e\"],[0.4444444444444444,\"#bd3786\"],[0.5555555555555556,\"#d8576b\"],[0.6666666666666666,\"#ed7953\"],[0.7777777777777778,\"#fb9f3a\"],[0.8888888888888888,\"#fdca26\"],[1.0,\"#f0f921\"]]}],\"choropleth\":[{\"type\":\"choropleth\",\"colorbar\":{\"outlinewidth\":0,\"ticks\":\"\"}}],\"histogram2d\":[{\"type\":\"histogram2d\",\"colorbar\":{\"outlinewidth\":0,\"ticks\":\"\"},\"colorscale\":[[0.0,\"#0d0887\"],[0.1111111111111111,\"#46039f\"],[0.2222222222222222,\"#7201a8\"],[0.3333333333333333,\"#9c179e\"],[0.4444444444444444,\"#bd3786\"],[0.5555555555555556,\"#d8576b\"],[0.6666666666666666,\"#ed7953\"],[0.7777777777777778,\"#fb9f3a\"],[0.8888888888888888,\"#fdca26\"],[1.0,\"#f0f921\"]]}],\"heatmap\":[{\"type\":\"heatmap\",\"colorbar\":{\"outlinewidth\":0,\"ticks\":\"\"},\"colorscale\":[[0.0,\"#0d0887\"],[0.1111111111111111,\"#46039f\"],[0.2222222222222222,\"#7201a8\"],[0.3333333333333333,\"#9c179e\"],[0.4444444444444444,\"#bd3786\"],[0.5555555555555556,\"#d8576b\"],[0.6666666666666666,\"#ed7953\"],[0.7777777777777778,\"#fb9f3a\"],[0.8888888888888888,\"#fdca26\"],[1.0,\"#f0f921\"]]}],\"heatmapgl\":[{\"type\":\"heatmapgl\",\"colorbar\":{\"outlinewidth\":0,\"ticks\":\"\"},\"colorscale\":[[0.0,\"#0d0887\"],[0.1111111111111111,\"#46039f\"],[0.2222222222222222,\"#7201a8\"],[0.3333333333333333,\"#9c179e\"],[0.4444444444444444,\"#bd3786\"],[0.5555555555555556,\"#d8576b\"],[0.6666666666666666,\"#ed7953\"],[0.7777777777777778,\"#fb9f3a\"],[0.8888888888888888,\"#fdca26\"],[1.0,\"#f0f921\"]]}],\"contourcarpet\":[{\"type\":\"contourcarpet\",\"colorbar\":{\"outlinewidth\":0,\"ticks\":\"\"}}],\"contour\":[{\"type\":\"contour\",\"colorbar\":{\"outlinewidth\":0,\"ticks\":\"\"},\"colorscale\":[[0.0,\"#0d0887\"],[0.1111111111111111,\"#46039f\"],[0.2222222222222222,\"#7201a8\"],[0.3333333333333333,\"#9c179e\"],[0.4444444444444444,\"#bd3786\"],[0.5555555555555556,\"#d8576b\"],[0.6666666666666666,\"#ed7953\"],[0.7777777777777778,\"#fb9f3a\"],[0.8888888888888888,\"#fdca26\"],[1.0,\"#f0f921\"]]}],\"surface\":[{\"type\":\"surface\",\"colorbar\":{\"outlinewidth\":0,\"ticks\":\"\"},\"colorscale\":[[0.0,\"#0d0887\"],[0.1111111111111111,\"#46039f\"],[0.2222222222222222,\"#7201a8\"],[0.3333333333333333,\"#9c179e\"],[0.4444444444444444,\"#bd3786\"],[0.5555555555555556,\"#d8576b\"],[0.6666666666666666,\"#ed7953\"],[0.7777777777777778,\"#fb9f3a\"],[0.8888888888888888,\"#fdca26\"],[1.0,\"#f0f921\"]]}],\"mesh3d\":[{\"type\":\"mesh3d\",\"colorbar\":{\"outlinewidth\":0,\"ticks\":\"\"}}],\"scatter\":[{\"fillpattern\":{\"fillmode\":\"overlay\",\"size\":10,\"solidity\":0.2},\"type\":\"scatter\"}],\"parcoords\":[{\"type\":\"parcoords\",\"line\":{\"colorbar\":{\"outlinewidth\":0,\"ticks\":\"\"}}}],\"scatterpolargl\":[{\"type\":\"scatterpolargl\",\"marker\":{\"colorbar\":{\"outlinewidth\":0,\"ticks\":\"\"}}}],\"bar\":[{\"error_x\":{\"color\":\"#2a3f5f\"},\"error_y\":{\"color\":\"#2a3f5f\"},\"marker\":{\"line\":{\"color\":\"#E5ECF6\",\"width\":0.5},\"pattern\":{\"fillmode\":\"overlay\",\"size\":10,\"solidity\":0.2}},\"type\":\"bar\"}],\"scattergeo\":[{\"type\":\"scattergeo\",\"marker\":{\"colorbar\":{\"outlinewidth\":0,\"ticks\":\"\"}}}],\"scatterpolar\":[{\"type\":\"scatterpolar\",\"marker\":{\"colorbar\":{\"outlinewidth\":0,\"ticks\":\"\"}}}],\"histogram\":[{\"marker\":{\"pattern\":{\"fillmode\":\"overlay\",\"size\":10,\"solidity\":0.2}},\"type\":\"histogram\"}],\"scattergl\":[{\"type\":\"scattergl\",\"marker\":{\"colorbar\":{\"outlinewidth\":0,\"ticks\":\"\"}}}],\"scatter3d\":[{\"type\":\"scatter3d\",\"line\":{\"colorbar\":{\"outlinewidth\":0,\"ticks\":\"\"}},\"marker\":{\"colorbar\":{\"outlinewidth\":0,\"ticks\":\"\"}}}],\"scattermapbox\":[{\"type\":\"scattermapbox\",\"marker\":{\"colorbar\":{\"outlinewidth\":0,\"ticks\":\"\"}}}],\"scatterternary\":[{\"type\":\"scatterternary\",\"marker\":{\"colorbar\":{\"outlinewidth\":0,\"ticks\":\"\"}}}],\"scattercarpet\":[{\"type\":\"scattercarpet\",\"marker\":{\"colorbar\":{\"outlinewidth\":0,\"ticks\":\"\"}}}],\"carpet\":[{\"aaxis\":{\"endlinecolor\":\"#2a3f5f\",\"gridcolor\":\"white\",\"linecolor\":\"white\",\"minorgridcolor\":\"white\",\"startlinecolor\":\"#2a3f5f\"},\"baxis\":{\"endlinecolor\":\"#2a3f5f\",\"gridcolor\":\"white\",\"linecolor\":\"white\",\"minorgridcolor\":\"white\",\"startlinecolor\":\"#2a3f5f\"},\"type\":\"carpet\"}],\"table\":[{\"cells\":{\"fill\":{\"color\":\"#EBF0F8\"},\"line\":{\"color\":\"white\"}},\"header\":{\"fill\":{\"color\":\"#C8D4E3\"},\"line\":{\"color\":\"white\"}},\"type\":\"table\"}],\"barpolar\":[{\"marker\":{\"line\":{\"color\":\"#E5ECF6\",\"width\":0.5},\"pattern\":{\"fillmode\":\"overlay\",\"size\":10,\"solidity\":0.2}},\"type\":\"barpolar\"}],\"pie\":[{\"automargin\":true,\"type\":\"pie\"}]},\"layout\":{\"autotypenumbers\":\"strict\",\"colorway\":[\"#636efa\",\"#EF553B\",\"#00cc96\",\"#ab63fa\",\"#FFA15A\",\"#19d3f3\",\"#FF6692\",\"#B6E880\",\"#FF97FF\",\"#FECB52\"],\"font\":{\"color\":\"#2a3f5f\"},\"hovermode\":\"closest\",\"hoverlabel\":{\"align\":\"left\"},\"paper_bgcolor\":\"white\",\"plot_bgcolor\":\"#E5ECF6\",\"polar\":{\"bgcolor\":\"#E5ECF6\",\"angularaxis\":{\"gridcolor\":\"white\",\"linecolor\":\"white\",\"ticks\":\"\"},\"radialaxis\":{\"gridcolor\":\"white\",\"linecolor\":\"white\",\"ticks\":\"\"}},\"ternary\":{\"bgcolor\":\"#E5ECF6\",\"aaxis\":{\"gridcolor\":\"white\",\"linecolor\":\"white\",\"ticks\":\"\"},\"baxis\":{\"gridcolor\":\"white\",\"linecolor\":\"white\",\"ticks\":\"\"},\"caxis\":{\"gridcolor\":\"white\",\"linecolor\":\"white\",\"ticks\":\"\"}},\"coloraxis\":{\"colorbar\":{\"outlinewidth\":0,\"ticks\":\"\"}},\"colorscale\":{\"sequential\":[[0.0,\"#0d0887\"],[0.1111111111111111,\"#46039f\"],[0.2222222222222222,\"#7201a8\"],[0.3333333333333333,\"#9c179e\"],[0.4444444444444444,\"#bd3786\"],[0.5555555555555556,\"#d8576b\"],[0.6666666666666666,\"#ed7953\"],[0.7777777777777778,\"#fb9f3a\"],[0.8888888888888888,\"#fdca26\"],[1.0,\"#f0f921\"]],\"sequentialminus\":[[0.0,\"#0d0887\"],[0.1111111111111111,\"#46039f\"],[0.2222222222222222,\"#7201a8\"],[0.3333333333333333,\"#9c179e\"],[0.4444444444444444,\"#bd3786\"],[0.5555555555555556,\"#d8576b\"],[0.6666666666666666,\"#ed7953\"],[0.7777777777777778,\"#fb9f3a\"],[0.8888888888888888,\"#fdca26\"],[1.0,\"#f0f921\"]],\"diverging\":[[0,\"#8e0152\"],[0.1,\"#c51b7d\"],[0.2,\"#de77ae\"],[0.3,\"#f1b6da\"],[0.4,\"#fde0ef\"],[0.5,\"#f7f7f7\"],[0.6,\"#e6f5d0\"],[0.7,\"#b8e186\"],[0.8,\"#7fbc41\"],[0.9,\"#4d9221\"],[1,\"#276419\"]]},\"xaxis\":{\"gridcolor\":\"white\",\"linecolor\":\"white\",\"ticks\":\"\",\"title\":{\"standoff\":15},\"zerolinecolor\":\"white\",\"automargin\":true,\"zerolinewidth\":2},\"yaxis\":{\"gridcolor\":\"white\",\"linecolor\":\"white\",\"ticks\":\"\",\"title\":{\"standoff\":15},\"zerolinecolor\":\"white\",\"automargin\":true,\"zerolinewidth\":2},\"scene\":{\"xaxis\":{\"backgroundcolor\":\"#E5ECF6\",\"gridcolor\":\"white\",\"linecolor\":\"white\",\"showbackground\":true,\"ticks\":\"\",\"zerolinecolor\":\"white\",\"gridwidth\":2},\"yaxis\":{\"backgroundcolor\":\"#E5ECF6\",\"gridcolor\":\"white\",\"linecolor\":\"white\",\"showbackground\":true,\"ticks\":\"\",\"zerolinecolor\":\"white\",\"gridwidth\":2},\"zaxis\":{\"backgroundcolor\":\"#E5ECF6\",\"gridcolor\":\"white\",\"linecolor\":\"white\",\"showbackground\":true,\"ticks\":\"\",\"zerolinecolor\":\"white\",\"gridwidth\":2}},\"shapedefaults\":{\"line\":{\"color\":\"#2a3f5f\"}},\"annotationdefaults\":{\"arrowcolor\":\"#2a3f5f\",\"arrowhead\":0,\"arrowwidth\":1},\"geo\":{\"bgcolor\":\"white\",\"landcolor\":\"#E5ECF6\",\"subunitcolor\":\"white\",\"showland\":true,\"showlakes\":true,\"lakecolor\":\"white\"},\"title\":{\"x\":0.05},\"mapbox\":{\"style\":\"light\"}}}},                        {\"responsive\": true}                    ).then(function(){\n",
              "                            \n",
              "var gd = document.getElementById('be860785-9055-43d2-9207-3b36151ab3f0');\n",
              "var x = new MutationObserver(function (mutations, observer) {{\n",
              "        var display = window.getComputedStyle(gd).display;\n",
              "        if (!display || display === 'none') {{\n",
              "            console.log([gd, 'removed!']);\n",
              "            Plotly.purge(gd);\n",
              "            observer.disconnect();\n",
              "        }}\n",
              "}});\n",
              "\n",
              "// Listen for the removal of the full notebook cells\n",
              "var notebookContainer = gd.closest('#notebook-container');\n",
              "if (notebookContainer) {{\n",
              "    x.observe(notebookContainer, {childList: true});\n",
              "}}\n",
              "\n",
              "// Listen for the clearing of the current output cell\n",
              "var outputEl = gd.closest('.output');\n",
              "if (outputEl) {{\n",
              "    x.observe(outputEl, {childList: true});\n",
              "}}\n",
              "\n",
              "                        })                };                            </script>        </div>\n",
              "</body>\n",
              "</html>"
            ]
          },
          "metadata": {}
        }
      ]
    },
    {
      "cell_type": "markdown",
      "source": [
        "* Separating labels from features"
      ],
      "metadata": {
        "id": "9HkYMgtgPnZP"
      }
    },
    {
      "cell_type": "code",
      "source": [
        "print(\"Separating labels from features...\")\n",
        "\n",
        "target_variable = \"Tbx5\"\n",
        "\n",
        "X = df.drop(target_variable, axis=1)\n",
        "y = df.loc[:, target_variable]\n",
        "\n",
        "print(\"...Done.\")\n",
        "print()\n",
        "\n",
        "print(\"Y : \")\n",
        "print(y.head())\n",
        "print()\n",
        "print(\"X :\")\n",
        "print(X.head())\n",
        "\n",
        "print()\n",
        "\n",
        "print(\"Dividing into train and test sets...\")\n",
        "X_train, X_test, y_train, y_test = train_test_split(X, y, test_size=0.2, random_state=0,  stratify=y)\n",
        "print(\"...Done.\")\n",
        "print()"
      ],
      "metadata": {
        "colab": {
          "base_uri": "https://localhost:8080/"
        },
        "id": "B8Yh0WWmPfR-",
        "outputId": "74fab026-4ef0-43ef-c2fe-5889b60d76a5"
      },
      "execution_count": 5,
      "outputs": [
        {
          "output_type": "stream",
          "name": "stdout",
          "text": [
            "Separating labels from features...\n",
            "...Done.\n",
            "\n",
            "Y : \n",
            "1    0.0\n",
            "2    0.0\n",
            "3    0.0\n",
            "4    0.0\n",
            "5    0.0\n",
            "Name: Tbx5, dtype: float64\n",
            "\n",
            "X :\n",
            "   area_cells  center_x_cells  center_y_cells  orientation_cells  \\\n",
            "1         122       24.975410      817.786885           2.049571   \n",
            "2         869       33.761795      842.621404           1.791812   \n",
            "3         856       37.967290      664.415888           2.011333   \n",
            "4         662       37.105740      978.809668           1.919752   \n",
            "5         303       33.696370      626.224422           1.700303   \n",
            "\n",
            "   perimeter_length  pressures   theta1N  ratio_lambda  eccentricity  \\\n",
            "1         51.213203   0.019273  0.753534      0.107335      0.543217   \n",
            "2        142.852814  -0.008199  0.128907      0.658197      0.260831   \n",
            "3        140.468037  -0.035611  0.133679      0.393390      0.943897   \n",
            "4        132.124892   0.013451 -0.130873      0.218346      0.806600   \n",
            "5         76.183766  -0.034522  0.196935      0.676989      0.344984   \n",
            "\n",
            "   n_neighbors  Nb_embryo  ATAN2  \n",
            "1          3.0          1 -0.289  \n",
            "2          6.0          1 -0.928  \n",
            "3          4.0          1 -0.587  \n",
            "4          7.0          1  0.846  \n",
            "5          2.0          1 -0.142  \n",
            "\n",
            "Dividing into train and test sets...\n",
            "...Done.\n",
            "\n"
          ]
        }
      ]
    },
    {
      "cell_type": "code",
      "source": [
        "numeric_features =[\"center_x_cells\",\t\"center_y_cells\",\t\"orientation_cells\", \"perimeter_length\",\t\"pressures\",\t\"theta1N\",\t\"Nb_embryo\"]\n",
        "numeric_transformer = StandardScaler()\n",
        "\n",
        "preprocessor = ColumnTransformer(\n",
        "    transformers=[\n",
        "        ('num', numeric_transformer, numeric_features)\n",
        "    ])\n",
        "\n",
        "X_train = preprocessor.fit_transform(X_train)\n",
        "encoder = LabelEncoder()\n",
        "y_train = encoder.fit_transform(y_train)\n",
        "\n",
        "print(X_train[0:5], y_train[0:6])\n",
        "\n",
        "X_test = preprocessor.transform(X_test)\n",
        "y_test= encoder.transform(y_test)\n",
        "\n",
        "print(X_test[0:5], y_test[0:20])"
      ],
      "metadata": {
        "colab": {
          "base_uri": "https://localhost:8080/"
        },
        "id": "ry04iWNDPuFK",
        "outputId": "11f0e516-0e78-4749-d216-dd8079bf56aa"
      },
      "execution_count": 6,
      "outputs": [
        {
          "output_type": "stream",
          "name": "stdout",
          "text": [
            "[[-0.89052515 -0.45543806  1.47402184 -1.53081619  4.01613479  1.37674347\n",
            "   0.91646807]\n",
            " [-1.37043837  0.6906575   0.63172694 -0.49718744 -0.31288272  0.63731084\n",
            "   0.91646807]\n",
            " [-0.56816433  0.6044695   1.37087443 -0.11828045  0.33486868  0.90066981\n",
            "   0.35246248]\n",
            " [-1.06131072 -0.61469451  0.70573727 -0.18002368  0.3580527   0.58171494\n",
            "   0.91646807]\n",
            " [-1.11299055 -1.23095345 -1.07788863  0.22716461  0.02781915 -1.41784254\n",
            "  -0.7755487 ]] [0 0 0 0 0 0]\n",
            "[[-0.35356174 -0.50184007  0.97553462  0.51740027 -0.4369545   1.20576352\n",
            "  -1.33955429]\n",
            " [ 1.27272415 -1.02278944  1.64173666 -1.15652933 -1.02649435  1.27930216\n",
            "  -1.33955429]\n",
            " [-1.63685028  0.8230732   0.73967815  0.23696538 -0.12068765  0.55604294\n",
            "  -1.33955429]\n",
            " [ 0.0939264  -1.05916767 -1.50457188 -0.65413586  2.44769082 -1.67313606\n",
            "  -1.33955429]\n",
            " [ 0.32859655 -0.29690235 -0.33390431  1.32445032 -0.34871628 -0.45385289\n",
            "  -0.7755487 ]] [0 0 0 0 0 0 1 0 0 0 0 0 0 0 0 0 0 0 0 0]\n"
          ]
        }
      ]
    },
    {
      "cell_type": "markdown",
      "source": [
        "#GradientBoosting\n",
        "* Boosting with decision tree as base estimator"
      ],
      "metadata": {
        "id": "zanQOMuNR_wn"
      }
    },
    {
      "cell_type": "code",
      "source": [
        "# Perform grid search\n",
        "print(\"Grid search...\")\n",
        "model = GradientBoostingClassifier()\n",
        "\n",
        "# Grid of values to be tested\n",
        "params = {\n",
        "    \"max_depth\": [\n",
        "        1,\n",
        "        2,\n",
        "        3,\n",
        "    ],  # no base_estimator_ prefix because these are all arguments of GradientBoostingClassifier\n",
        "    \"min_samples_leaf\": [1, 2, 3],\n",
        "    \"min_samples_split\": [2, 3, 4],\n",
        "    \"n_estimators\": [2, 4, 6, 8, 10],\n",
        "}\n",
        "print(params)\n",
        "gridsearch = GridSearchCV(\n",
        "    model, param_grid=params, cv=3\n",
        ")  # cv : the number of folds to be used for CV\n",
        "gridsearch.fit(X_train, y_train)\n",
        "print(\"...Done.\")\n",
        "print(\"Best hyperparameters : \", gridsearch.best_params_)\n",
        "print(\"Best validation accuracy : \", gridsearch.best_score_)\n",
        "print()\n",
        "print(\"Accuracy on training set : \", gridsearch.score(X_train, y_train))\n",
        "print(\"Accuracy on test set : \", gridsearch.score(X_test, y_test))"
      ],
      "metadata": {
        "colab": {
          "base_uri": "https://localhost:8080/"
        },
        "id": "9jR-SDA2R0uq",
        "outputId": "eb85cbdc-4818-4e4a-f35b-74addf0d0bde"
      },
      "execution_count": 7,
      "outputs": [
        {
          "output_type": "stream",
          "name": "stdout",
          "text": [
            "Grid search...\n",
            "{'max_depth': [1, 2, 3], 'min_samples_leaf': [1, 2, 3], 'min_samples_split': [2, 3, 4], 'n_estimators': [2, 4, 6, 8, 10]}\n",
            "...Done.\n",
            "Best hyperparameters :  {'max_depth': 3, 'min_samples_leaf': 1, 'min_samples_split': 2, 'n_estimators': 10}\n",
            "Best validation accuracy :  0.933391506689936\n",
            "\n",
            "Accuracy on training set :  0.9413903432228039\n",
            "Accuracy on test set :  0.9383362420011635\n"
          ]
        }
      ]
    },
    {
      "cell_type": "code",
      "source": [
        "# Predictions on training set\n",
        "print(\"Predictions on training set...\")\n",
        "y_train_pred = gridsearch.predict(X_train)\n",
        "print(\"...Done.\")\n",
        "print(y_train_pred)\n",
        "print()\n",
        "\n",
        "# It's also possible to get the probabilities estimated by the model:\n",
        "print(\"Probabilities on training set...\")\n",
        "y_train_proba = gridsearch.predict_proba(X_train)\n",
        "print(\"...Done.\")\n",
        "print(y_train_proba)\n",
        "print()\n",
        "\n",
        "# Predictions on test set\n",
        "print(\"Predictions on test set...\")\n",
        "y_test_pred = gridsearch.predict(X_test)\n",
        "print(\"...Done.\")\n",
        "print(y_test_pred)\n",
        "print()\n",
        "\n",
        "# It's also possible to get the probabilities estimated by the model:\n",
        "print(\"Probabilities on test set...\")\n",
        "y_test_proba = gridsearch.predict_proba(X_test)\n",
        "print(\"...Done.\")\n",
        "print(y_test_proba)\n",
        "print()\n",
        "\n",
        "\n",
        "# Print scores\n",
        "print(\"accuracy on training set : \", accuracy_score(y_train, y_train_pred))\n",
        "print(\"accuracy on test set : \", accuracy_score(y_test, y_test_pred))\n",
        "print()\n",
        "\n",
        "print(\"f1-score on training set : \", f1_score(y_train, y_train_pred))\n",
        "print(\"f1-score on test set : \", f1_score(y_test, y_test_pred))\n",
        "print()"
      ],
      "metadata": {
        "colab": {
          "base_uri": "https://localhost:8080/"
        },
        "id": "z1MCqPMpSCvP",
        "outputId": "3ea62bfe-a2f0-430b-a1a2-6f7bbbf4580e"
      },
      "execution_count": 8,
      "outputs": [
        {
          "output_type": "stream",
          "name": "stdout",
          "text": [
            "Predictions on training set...\n",
            "...Done.\n",
            "[0 0 0 ... 0 0 1]\n",
            "\n",
            "Probabilities on training set...\n",
            "...Done.\n",
            "[[0.94803856 0.05196144]\n",
            " [0.93486406 0.06513594]\n",
            " [0.75204098 0.24795902]\n",
            " ...\n",
            " [0.91936711 0.08063289]\n",
            " [0.94803856 0.05196144]\n",
            " [0.40440183 0.59559817]]\n",
            "\n",
            "Predictions on test set...\n",
            "...Done.\n",
            "[0 0 0 ... 0 0 1]\n",
            "\n",
            "Probabilities on test set...\n",
            "...Done.\n",
            "[[0.94803856 0.05196144]\n",
            " [0.94803856 0.05196144]\n",
            " [0.93594822 0.06405178]\n",
            " ...\n",
            " [0.94803856 0.05196144]\n",
            " [0.91811719 0.08188281]\n",
            " [0.40440183 0.59559817]]\n",
            "\n",
            "accuracy on training set :  0.9413903432228039\n",
            "accuracy on test set :  0.9383362420011635\n",
            "\n",
            "f1-score on training set :  0.7630805408583187\n",
            "f1-score on test set :  0.7523364485981308\n",
            "\n"
          ]
        }
      ]
    },
    {
      "cell_type": "code",
      "source": [
        "# Visualize confusion matrices\n",
        "_ , ax = plt.subplots() # Get subplot from matplotlib\n",
        "ax.set(title=\"Confusion Matrix on Train set\") # Set a title that we will add into ConfusionMatrixDisplay\n",
        "ConfusionMatrixDisplay.from_estimator(gridsearch, X_train, y_train, ax=ax) # ConfusionMatrixDisplay from sklearn\n",
        "plt.show()\n",
        "\n",
        "_ , ax = plt.subplots() # Get subplot from matplotlib\n",
        "ax.set(title=\"Confusion Matrix on Test set\") # Set a title that we will add into ConfusionMatrixDisplay\n",
        "ConfusionMatrixDisplay.from_estimator(gridsearch, X_test, y_test, ax=ax) # ConfusionMatrixDisplay from sklearn\n",
        "plt.show()"
      ],
      "metadata": {
        "colab": {
          "base_uri": "https://localhost:8080/",
          "height": 927
        },
        "id": "SKw896NuSIQ_",
        "outputId": "9d802240-18cf-4f08-f99f-4422cd363631"
      },
      "execution_count": 9,
      "outputs": [
        {
          "output_type": "display_data",
          "data": {
            "text/plain": [
              "<Figure size 640x480 with 2 Axes>"
            ],
            "image/png": "[encoded data removed]"
          },
          "metadata": {}
        },
        {
          "output_type": "display_data",
          "data": {
            "text/plain": [
              "<Figure size 640x480 with 2 Axes>"
            ],
            "image/png": "[encoded data removed]"
          },
          "metadata": {}
        }
      ]
    }
  ]
}